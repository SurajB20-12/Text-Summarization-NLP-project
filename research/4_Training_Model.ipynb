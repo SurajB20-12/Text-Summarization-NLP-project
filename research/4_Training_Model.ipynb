{
 "cells": [
  {
   "cell_type": "code",
   "execution_count": 2,
   "id": "70c829ce",
   "metadata": {},
   "outputs": [],
   "source": [
    "import os"
   ]
  },
  {
   "cell_type": "code",
   "execution_count": 3,
   "id": "c11eba0c",
   "metadata": {},
   "outputs": [
    {
     "data": {
      "text/plain": [
       "'d:\\\\End-to-End ML project\\\\NLP\\\\End-to-End projects\\\\Text-Summarization-NLP-project\\\\research'"
      ]
     },
     "execution_count": 3,
     "metadata": {},
     "output_type": "execute_result"
    }
   ],
   "source": [
    "%pwd"
   ]
  },
  {
   "cell_type": "code",
   "execution_count": 4,
   "id": "e71fc62d",
   "metadata": {},
   "outputs": [],
   "source": [
    "os.chdir('../')"
   ]
  },
  {
   "cell_type": "code",
   "execution_count": 5,
   "id": "c7ff8fed",
   "metadata": {},
   "outputs": [
    {
     "data": {
      "text/plain": [
       "'d:\\\\End-to-End ML project\\\\NLP\\\\End-to-End projects\\\\Text-Summarization-NLP-project'"
      ]
     },
     "execution_count": 5,
     "metadata": {},
     "output_type": "execute_result"
    }
   ],
   "source": [
    "%pwd"
   ]
  },
  {
   "cell_type": "code",
   "execution_count": 6,
   "id": "f6af7364",
   "metadata": {},
   "outputs": [],
   "source": [
    "from pathlib import Path\n",
    "from dataclasses import dataclass\n",
    "\n",
    "@dataclass(frozen=True)\n",
    "class ModelTrainerConfig:\n",
    "  root_dir: Path\n",
    "  data_path: Path\n",
    "  model_ckpt: Path\n",
    "  num_train_epochs: int\n",
    "  warmup_steps: int\n",
    "  per_device_train_batch_size: int\n",
    "  weight_decay: float\n",
    "  logging_steps: int\n",
    "  evaluation_strategy: str\n",
    "  eval_steps: int\n",
    "  save_steps: float\n",
    "  gradient_accumulation_steps: int"
   ]
  },
  {
   "cell_type": "code",
   "execution_count": 7,
   "id": "b0cfbf66",
   "metadata": {},
   "outputs": [],
   "source": [
    "from textSummarizer.constants import *\n",
    "from textSummarizer.utils.common import read_yaml, create_directories"
   ]
  },
  {
   "cell_type": "code",
   "execution_count": 8,
   "id": "e0118177",
   "metadata": {},
   "outputs": [],
   "source": [
    "class ConfigurationManager:\n",
    "    def __init__(self,\n",
    "                 config_filepath = CONFIG_FILE_PATH,\n",
    "                 params_filepath= PARAMS_FILE_PATH):\n",
    "\n",
    "      self.config = read_yaml(config_filepath)\n",
    "      self.params = read_yaml(params_filepath)\n",
    "\n",
    "      create_directories([self.config.artifacts_root])\n",
    "\n",
    "\n",
    "    \n",
    "    def get_model_trainer_config(self) -> ModelTrainerConfig:\n",
    "        config = self.config.model_trainer\n",
    "        params = self.params.TrainingArguments\n",
    "\n",
    "        create_directories([config.root_dir])\n",
    "\n",
    "        model_trainer_config = ModelTrainerConfig(\n",
    "            root_dir=config.root_dir,\n",
    "            data_path=config.data_path,\n",
    "            model_ckpt = config.model_ckpt,\n",
    "            num_train_epochs = params.num_train_epochs,\n",
    "            warmup_steps = params.warmup_steps,\n",
    "            per_device_train_batch_size = params.per_device_train_batch_size,\n",
    "            weight_decay = params.weight_decay,\n",
    "            logging_steps = params.logging_steps,\n",
    "            evaluation_strategy = params.evaluation_strategy,\n",
    "            eval_steps = params.evaluation_strategy,\n",
    "            save_steps = params.save_steps,\n",
    "            gradient_accumulation_steps = params.gradient_accumulation_steps\n",
    "        )\n",
    "\n",
    "        return model_trainer_config"
   ]
  },
  {
   "cell_type": "code",
   "execution_count": 9,
   "id": "214eccb5",
   "metadata": {},
   "outputs": [
    {
     "name": "stderr",
     "output_type": "stream",
     "text": [
      "C:\\Users\\Dell\\AppData\\Roaming\\Python\\Python39\\site-packages\\tqdm\\auto.py:21: TqdmWarning: IProgress not found. Please update jupyter and ipywidgets. See https://ipywidgets.readthedocs.io/en/stable/user_install.html\n",
      "  from .autonotebook import tqdm as notebook_tqdm\n"
     ]
    },
    {
     "name": "stdout",
     "output_type": "stream",
     "text": [
      "[2025-07-20 08:19:08,714: INFO: config: PyTorch version 2.7.1 available.]\n",
      "[2025-07-20 08:19:08,723: INFO: config: TensorFlow version 2.10.0 available.]\n"
     ]
    }
   ],
   "source": [
    "from transformers import TrainingArguments\n",
    "from transformers import DataCollatorForSeq2Seq,AutoModelForSeq2SeqLM,AutoTokenizer\n",
    "from datasets import load_dataset, load_from_disk\n",
    "import torch"
   ]
  },
  {
   "cell_type": "code",
   "execution_count": 10,
   "id": "ba2480a5",
   "metadata": {},
   "outputs": [],
   "source": [
    "from transformers import Trainer "
   ]
  },
  {
   "cell_type": "code",
   "execution_count": 11,
   "id": "e9588b7e",
   "metadata": {},
   "outputs": [],
   "source": [
    "class ModelTrainer:\n",
    "  def __init__(self,config:ModelTrainerConfig):\n",
    "    self.config=config \n",
    "\n",
    "  def train_the_model(self):\n",
    "    device= \"cuda\" if torch.cuda.is_available() else \"cpu\"\n",
    "    tokenizer = AutoTokenizer.from_pretrained(self.config.model_ckpt)\n",
    "    model_t5 = AutoModelForSeq2SeqLM.from_pretrained(self.config.model_ckpt).to(device)\n",
    "    seq2seq_data_collator = DataCollatorForSeq2Seq(tokenizer, model=model_t5)\n",
    "\n",
    "    #loading data \n",
    "    dataset_samsum_pt = load_from_disk(self.config.data_path)\n",
    "\n",
    "    #use yaml file to load parameters or hardcode it in TrainingArg function \n",
    "    # trainer_args = TrainingArguments(\n",
    "        #     output_dir=self.config.root_dir, num_train_epochs=self.config.num_train_epochs, warmup_steps=self.config.warmup_steps,\n",
    "        #     per_device_train_batch_size=self.config.per_device_train_batch_size, per_device_eval_batch_size=self.config.per_device_train_batch_size,\n",
    "        #     weight_decay=self.config.weight_decay, logging_steps=self.config.logging_steps,\n",
    "        #     evaluation_strategy=self.config.evaluation_strategy, eval_steps=self.config.eval_steps, save_steps=1e6,\n",
    "        #     gradient_accumulation_steps=self.config.gradient_accumulation_steps\n",
    "        # )\n",
    "\n",
    "    #hardcode it in this function\n",
    "    trainer_args = TrainingArguments(\n",
    "            output_dir=self.config.root_dir, num_train_epochs=1, warmup_steps=0,\n",
    "            per_device_train_batch_size=4, per_device_eval_batch_size=4,\n",
    "            weight_decay=0.01, logging_steps=50,\n",
    "            evaluation_strategy='epoch', save_strategy='no',disable_tqdm=True,\n",
    "            gradient_accumulation_steps=1,report_to=[],overwrite_output_dir=True\n",
    "        ) \n",
    "    trainer=Trainer(model=model_t5,args=trainer_args,tokenizer=tokenizer,\n",
    "                    data_collator=seq2seq_data_collator,\n",
    "                    train_dataset=dataset_samsum_pt['train'].select(range(1000)),\n",
    "                    eval_dataset=dataset_samsum_pt['validation'])\n",
    "    \n",
    "    trainer.train()\n",
    "\n",
    "    ##save model\n",
    "    model_t5.save_pretrained(os.path.join(self.config.root_dir,\"t5-samsum-model\"))\n",
    "\n",
    "    ##save tokenizer\n",
    "    tokenizer.save_pretrained(os.path.join(self.config.root_dir,\"tokenizer\"))\n",
    "\n"
   ]
  },
  {
   "cell_type": "code",
   "execution_count": 12,
   "id": "4c1fde14",
   "metadata": {},
   "outputs": [
    {
     "name": "stdout",
     "output_type": "stream",
     "text": [
      "[2025-07-20 08:19:28,013: INFO: common: yaml file: config\\config.yaml loaded successfully]\n",
      "[2025-07-20 08:19:28,023: INFO: common: yaml file: params.yaml loaded successfully]\n",
      "[2025-07-20 08:19:28,026: INFO: common: created directory at:artifacts]\n",
      "[2025-07-20 08:19:28,029: INFO: common: created directory at:artifacts/model_trainer]\n"
     ]
    },
    {
     "name": "stderr",
     "output_type": "stream",
     "text": [
      "d:\\End-to-End ML project\\venv\\lib\\site-packages\\huggingface_hub\\file_download.py:943: FutureWarning: `resume_download` is deprecated and will be removed in version 1.0.0. Downloads always resume when possible. If you want to force a new download, use `force_download=True`.\n",
      "  warnings.warn(\n",
      "C:\\Users\\Dell\\AppData\\Roaming\\Python\\Python39\\site-packages\\networkx\\utils\\backends.py:135: RuntimeWarning: networkx backend defined more than once: nx-loopback\n",
      "  backends.update(_get_backends(\"networkx.backends\"))\n",
      "d:\\End-to-End ML project\\venv\\lib\\site-packages\\torch\\utils\\data\\dataloader.py:665: UserWarning: 'pin_memory' argument is set as true but no accelerator is found, then device pinned memory won't be used.\n",
      "  warnings.warn(warn_msg)\n"
     ]
    },
    {
     "name": "stdout",
     "output_type": "stream",
     "text": [
      "{'loss': 2.7237, 'grad_norm': 6.861265659332275, 'learning_rate': 4e-05, 'epoch': 0.2}\n",
      "{'loss': 2.351, 'grad_norm': 4.0995192527771, 'learning_rate': 3e-05, 'epoch': 0.4}\n",
      "{'loss': 2.3384, 'grad_norm': 4.243740558624268, 'learning_rate': 2e-05, 'epoch': 0.6}\n",
      "{'loss': 2.3462, 'grad_norm': 3.936918258666992, 'learning_rate': 1e-05, 'epoch': 0.8}\n",
      "{'loss': 2.3241, 'grad_norm': 5.630183219909668, 'learning_rate': 0.0, 'epoch': 1.0}\n",
      "{'eval_loss': 2.0395901203155518, 'eval_runtime': 439.0722, 'eval_samples_per_second': 1.863, 'eval_steps_per_second': 0.467, 'epoch': 1.0}\n",
      "{'train_runtime': 2732.5835, 'train_samples_per_second': 0.366, 'train_steps_per_second': 0.091, 'train_loss': 2.416666534423828, 'epoch': 1.0}\n"
     ]
    }
   ],
   "source": [
    "try:\n",
    "  config=ConfigurationManager()\n",
    "  model_trainer_config=config.get_model_trainer_config()\n",
    "  model_trainer_config=ModelTrainer(config=model_trainer_config)\n",
    "  model_trainer_config.train_the_model()\n",
    "except Exception as e:\n",
    "  raise e"
   ]
  },
  {
   "cell_type": "code",
   "execution_count": null,
   "id": "161f8872",
   "metadata": {},
   "outputs": [],
   "source": []
  }
 ],
 "metadata": {
  "kernelspec": {
   "display_name": "Python 3",
   "language": "python",
   "name": "python3"
  },
  "language_info": {
   "codemirror_mode": {
    "name": "ipython",
    "version": 3
   },
   "file_extension": ".py",
   "mimetype": "text/x-python",
   "name": "python",
   "nbconvert_exporter": "python",
   "pygments_lexer": "ipython3",
   "version": "3.9.0"
  }
 },
 "nbformat": 4,
 "nbformat_minor": 5
}
