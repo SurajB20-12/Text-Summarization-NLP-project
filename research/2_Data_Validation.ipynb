{
 "cells": [
  {
   "cell_type": "markdown",
   "id": "ff416984",
   "metadata": {},
   "source": [
    "#### Data Validation Step:check if data is in correct format or not "
   ]
  },
  {
   "cell_type": "code",
   "execution_count": 1,
   "id": "172638a0",
   "metadata": {},
   "outputs": [],
   "source": [
    "import os"
   ]
  },
  {
   "cell_type": "code",
   "execution_count": 2,
   "id": "b12687e7",
   "metadata": {},
   "outputs": [
    {
     "data": {
      "text/plain": [
       "'d:\\\\End-to-End ML project\\\\NLP\\\\End-to-End projects\\\\Text-Summarization-NLP-project\\\\research'"
      ]
     },
     "execution_count": 2,
     "metadata": {},
     "output_type": "execute_result"
    }
   ],
   "source": [
    "%pwd"
   ]
  },
  {
   "cell_type": "code",
   "execution_count": 3,
   "id": "1704492a",
   "metadata": {},
   "outputs": [],
   "source": [
    "os.chdir(\"../\")"
   ]
  },
  {
   "cell_type": "code",
   "execution_count": 4,
   "id": "8bb5ef34",
   "metadata": {},
   "outputs": [
    {
     "data": {
      "text/plain": [
       "'d:\\\\End-to-End ML project\\\\NLP\\\\End-to-End projects\\\\Text-Summarization-NLP-project'"
      ]
     },
     "execution_count": 4,
     "metadata": {},
     "output_type": "execute_result"
    }
   ],
   "source": [
    "%pwd"
   ]
  },
  {
   "cell_type": "code",
   "execution_count": 5,
   "id": "a3e42da8",
   "metadata": {},
   "outputs": [],
   "source": [
    "from dataclasses import dataclass\n",
    "from pathlib import Path\n",
    "\n",
    "@dataclass(frozen=True)\n",
    "class DataValidationConfig:\n",
    "  root_dir : Path\n",
    "  STATUS_FILE :  str\n",
    "  ALL_REQUIRED_FILES : list"
   ]
  },
  {
   "cell_type": "code",
   "execution_count": 6,
   "id": "9bbfec45",
   "metadata": {},
   "outputs": [],
   "source": [
    "from textSummarizer.constants import *\n",
    "from textSummarizer.utils.common import read_yaml,create_directories"
   ]
  },
  {
   "cell_type": "code",
   "execution_count": 7,
   "id": "6e6f9ba9",
   "metadata": {},
   "outputs": [],
   "source": [
    "class ConfigurationManager:\n",
    "  def __init__(self,config_filepath=CONFIG_FILE_PATH,params_filepath=PARAMS_FILE_PATH):\n",
    "    self.config=read_yaml(config_filepath)\n",
    "    self.params=read_yaml(params_filepath)\n",
    "    create_directories([self.config.artifacts_root])\n",
    "\n",
    "  def get_data_validation_config(self) -> DataValidationConfig:\n",
    "        config = self.config.data_validation\n",
    "\n",
    "        create_directories([config.root_dir])\n",
    "\n",
    "        data_validation_config = DataValidationConfig(\n",
    "            root_dir=config.root_dir,\n",
    "            STATUS_FILE=config.STATUS_FILES,\n",
    "            ALL_REQUIRED_FILES=config.ALL_REQUIRED_FILES,\n",
    "        )\n",
    "\n",
    "        return data_validation_config"
   ]
  },
  {
   "cell_type": "code",
   "execution_count": 8,
   "id": "4d820112",
   "metadata": {},
   "outputs": [],
   "source": [
    "import os\n",
    "from textSummarizer.logging import logger"
   ]
  },
  {
   "cell_type": "code",
   "execution_count": 9,
   "id": "5eb049eb",
   "metadata": {},
   "outputs": [],
   "source": [
    "class DataValidation:\n",
    "  def __init__(self,config:DataValidationConfig):\n",
    "    self.config=config\n",
    "\n",
    "  def validate_all_files_exist(self)->bool:\n",
    "    try:\n",
    "      validation_status=None\n",
    "\n",
    "      all_files=os.listdir(os.path.join('artifacts','data_ingestion','samsum_dataset'))\n",
    "\n",
    "      for file in all_files:\n",
    "        if file not in self.config.ALL_REQUIRED_FILES:\n",
    "          validation_status=False\n",
    "          with open(self.config.STATUS_FILE,'w') as f:\n",
    "            f.write(f\"validation status:{validation_status}\")\n",
    "        else:\n",
    "          validation_status=True\n",
    "          with open(self.config.STATUS_FILE,'w') as f:\n",
    "            f.write(f\"validation status:{validation_status}\")\n",
    "      return validation_status\n",
    "    except Exception as e:\n",
    "      raise e\n",
    "  "
   ]
  },
  {
   "cell_type": "code",
   "execution_count": null,
   "id": "67e5c8ce",
   "metadata": {},
   "outputs": [
    {
     "name": "stdout",
     "output_type": "stream",
     "text": [
      "[2025-07-06 18:03:31,281: INFO: common: yaml file: config\\config.yaml loaded successfully]\n",
      "[2025-07-06 18:03:31,288: INFO: common: yaml file: params.yaml loaded successfully]\n",
      "[2025-07-06 18:03:31,292: INFO: common: created directory at:artifacts]\n",
      "[2025-07-06 18:03:31,294: INFO: common: created directory at:artifacts/data_validation]\n"
     ]
    }
   ],
   "source": [
    "try:\n",
    "  config=ConfigurationManager()\n",
    "  data_validation_config=config.get_data_validation_config()\n",
    "  data_validation=DataValidation(config=data_validation_config)\n",
    "  data_validation.validate_all_files_exist()\n",
    "except Exception as e:\n",
    "  raise e"
   ]
  }
 ],
 "metadata": {
  "kernelspec": {
   "display_name": "Python 3",
   "language": "python",
   "name": "python3"
  },
  "language_info": {
   "codemirror_mode": {
    "name": "ipython",
    "version": 3
   },
   "file_extension": ".py",
   "mimetype": "text/x-python",
   "name": "python",
   "nbconvert_exporter": "python",
   "pygments_lexer": "ipython3",
   "version": "3.9.0"
  }
 },
 "nbformat": 4,
 "nbformat_minor": 5
}
