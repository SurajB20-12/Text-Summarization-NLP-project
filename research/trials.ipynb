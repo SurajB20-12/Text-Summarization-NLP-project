{
 "cells": [
  {
   "cell_type": "code",
   "execution_count": 1,
   "id": "1c747bbe",
   "metadata": {},
   "outputs": [
    {
     "data": {
      "text/plain": [
       "'value1'"
      ]
     },
     "execution_count": 1,
     "metadata": {},
     "output_type": "execute_result"
    }
   ],
   "source": [
    "d={\"key1\":\"value1\",\"key2\":\"value2\"}\n",
    "d['key1']"
   ]
  },
  {
   "cell_type": "code",
   "execution_count": 2,
   "id": "57ca6e82",
   "metadata": {},
   "outputs": [],
   "source": [
    "from box import ConfigBox\n",
    "\n",
    "d=ConfigBox({\"key1\":\"value1\",\"key2\":\"value2\"})\n"
   ]
  },
  {
   "cell_type": "code",
   "execution_count": 3,
   "id": "5e075972",
   "metadata": {},
   "outputs": [
    {
     "data": {
      "text/plain": [
       "'value1'"
      ]
     },
     "execution_count": 3,
     "metadata": {},
     "output_type": "execute_result"
    }
   ],
   "source": [
    "d.key1"
   ]
  },
  {
   "cell_type": "code",
   "execution_count": 4,
   "id": "145c7c38",
   "metadata": {},
   "outputs": [],
   "source": [
    "def Mul(x:int,y:int)->int:\n",
    "  return x*y"
   ]
  },
  {
   "cell_type": "code",
   "execution_count": 5,
   "id": "0e7021ef",
   "metadata": {},
   "outputs": [
    {
     "data": {
      "text/plain": [
       "8"
      ]
     },
     "execution_count": 5,
     "metadata": {},
     "output_type": "execute_result"
    }
   ],
   "source": [
    "Mul(2,4)"
   ]
  },
  {
   "cell_type": "code",
   "execution_count": 6,
   "id": "1ef32528",
   "metadata": {},
   "outputs": [
    {
     "data": {
      "text/plain": [
       "'44'"
      ]
     },
     "execution_count": 6,
     "metadata": {},
     "output_type": "execute_result"
    }
   ],
   "source": [
    "Mul(2,\"4\")"
   ]
  },
  {
   "cell_type": "code",
   "execution_count": 7,
   "id": "afcf566f",
   "metadata": {},
   "outputs": [],
   "source": [
    "# Even I set y as int it does not give an error becoz python does not enforce type hints at runtime by default\n",
    "# so in this case Python actually interprets this as: 2 * \"4\" Which means: repeat the string \"4\" two times, resulting in:\"44\"\n",
    "#Python is dynamically typed, so it doesn’t care about your type hints unless you explicitly enforce them\n",
    "#How to prevent this : Add the @ensure_annotations decorator from the ensure package:"
   ]
  },
  {
   "cell_type": "code",
   "execution_count": 8,
   "id": "ea898b48",
   "metadata": {},
   "outputs": [],
   "source": [
    "#The @ensure_annotations decorator is used to enforce type annotations at runtime in Python. with @ensure_annotations, those annotations are checked at runtime, so if a function is called with the wrong types, it raises an error."
   ]
  },
  {
   "cell_type": "code",
   "execution_count": 9,
   "id": "e64be5c2",
   "metadata": {},
   "outputs": [],
   "source": [
    "from ensure import ensure_annotations\n",
    "@ensure_annotations\n",
    "def Mul(x:int,y:int)->int:\n",
    "  return x*y"
   ]
  },
  {
   "cell_type": "code",
   "execution_count": 14,
   "id": "dd810cdf",
   "metadata": {},
   "outputs": [
    {
     "data": {
      "text/plain": [
       "8"
      ]
     },
     "execution_count": 14,
     "metadata": {},
     "output_type": "execute_result"
    }
   ],
   "source": [
    "Mul(2,4)"
   ]
  },
  {
   "cell_type": "code",
   "execution_count": null,
   "id": "f262ba25",
   "metadata": {},
   "outputs": [],
   "source": []
  }
 ],
 "metadata": {
  "kernelspec": {
   "display_name": "Python 3",
   "language": "python",
   "name": "python3"
  },
  "language_info": {
   "codemirror_mode": {
    "name": "ipython",
    "version": 3
   },
   "file_extension": ".py",
   "mimetype": "text/x-python",
   "name": "python",
   "nbconvert_exporter": "python",
   "pygments_lexer": "ipython3",
   "version": "3.9.0"
  }
 },
 "nbformat": 4,
 "nbformat_minor": 5
}
